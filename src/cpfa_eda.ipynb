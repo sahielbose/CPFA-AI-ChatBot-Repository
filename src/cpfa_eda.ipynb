{
  "cells": [
    {
      "cell_type": "code",
      "execution_count": 7,
      "metadata": {
        "id": "45B44o29I_S_"
      },
      "outputs": [],
      "source": [
        "import pandas as pd\n",
        "from pandas import Series\n",
        "import numpy as np\n",
        "import seaborn as sns\n",
        "import matplotlib.pyplot as plt\n",
        "import string\n",
        "import nltk\n",
        "from nltk.corpus import stopwords\n",
        "from nltk.stem import PorterStemmer\n",
        "from nltk.tokenize import sent_tokenize, word_tokenize\n",
        "\n"
      ]
    },
    {
      "cell_type": "code",
      "execution_count": 8,
      "metadata": {
        "colab": {
          "base_uri": "https://localhost:8080/",
          "height": 206
        },
        "id": "JHKBy5N0JOxm",
        "outputId": "00d5688c-f23d-4827-857f-dfb80b8240ab"
      },
      "outputs": [
        {
          "data": {
            "text/html": [
              "<div>\n",
              "<style scoped>\n",
              "    .dataframe tbody tr th:only-of-type {\n",
              "        vertical-align: middle;\n",
              "    }\n",
              "\n",
              "    .dataframe tbody tr th {\n",
              "        vertical-align: top;\n",
              "    }\n",
              "\n",
              "    .dataframe thead th {\n",
              "        text-align: right;\n",
              "    }\n",
              "</style>\n",
              "<table border=\"1\" class=\"dataframe\">\n",
              "  <thead>\n",
              "    <tr style=\"text-align: right;\">\n",
              "      <th></th>\n",
              "      <th>intent</th>\n",
              "      <th>question</th>\n",
              "      <th>category</th>\n",
              "    </tr>\n",
              "  </thead>\n",
              "  <tbody>\n",
              "    <tr>\n",
              "      <th>0</th>\n",
              "      <td>deepfake_purpose</td>\n",
              "      <td>What is the purpose of deepfakes?</td>\n",
              "      <td>deepfake</td>\n",
              "    </tr>\n",
              "    <tr>\n",
              "      <th>1</th>\n",
              "      <td>deepfake_purpose</td>\n",
              "      <td>Why were deepfakes created?</td>\n",
              "      <td>deepfake</td>\n",
              "    </tr>\n",
              "    <tr>\n",
              "      <th>2</th>\n",
              "      <td>deepfake_legality</td>\n",
              "      <td>Are deepfakes illegal?</td>\n",
              "      <td>deepfake</td>\n",
              "    </tr>\n",
              "    <tr>\n",
              "      <th>3</th>\n",
              "      <td>deepfake_legality</td>\n",
              "      <td>Can you get arrested for making deepfakes?</td>\n",
              "      <td>deepfake</td>\n",
              "    </tr>\n",
              "    <tr>\n",
              "      <th>4</th>\n",
              "      <td>deepfake_danger</td>\n",
              "      <td>Why are deepfakes dangerous?</td>\n",
              "      <td>deepfake</td>\n",
              "    </tr>\n",
              "  </tbody>\n",
              "</table>\n",
              "</div>"
            ],
            "text/plain": [
              "              intent                                    question  category\n",
              "0   deepfake_purpose           What is the purpose of deepfakes?  deepfake\n",
              "1   deepfake_purpose                 Why were deepfakes created?  deepfake\n",
              "2  deepfake_legality                      Are deepfakes illegal?  deepfake\n",
              "3  deepfake_legality  Can you get arrested for making deepfakes?  deepfake\n",
              "4    deepfake_danger                Why are deepfakes dangerous?  deepfake"
            ]
          },
          "execution_count": 8,
          "metadata": {},
          "output_type": "execute_result"
        }
      ],
      "source": [
        "data_path = \"../data/processed/cyber_data.csv\"\n",
        "data = pd.read_csv(data_path)\n",
        "data.head()"
      ]
    },
    {
      "cell_type": "code",
      "execution_count": 9,
      "metadata": {
        "colab": {
          "base_uri": "https://localhost:8080/"
        },
        "id": "SF6HDfQiJniG",
        "outputId": "1ab622e3-8403-465a-9ff8-ef1d43c48eb5"
      },
      "outputs": [
        {
          "data": {
            "text/plain": [
              "(1035, 3)"
            ]
          },
          "execution_count": 9,
          "metadata": {},
          "output_type": "execute_result"
        }
      ],
      "source": [
        "data.shape"
      ]
    },
    {
      "cell_type": "markdown",
      "metadata": {
        "id": "XjJxJM3ORxvF"
      },
      "source": [
        "# Exploratory Data Analysis"
      ]
    },
    {
      "cell_type": "code",
      "execution_count": 10,
      "metadata": {
        "colab": {
          "base_uri": "https://localhost:8080/"
        },
        "id": "1a_lTk3ESNJB",
        "outputId": "22022b06-1fe4-449e-d8ba-97c7f775d0cd"
      },
      "outputs": [
        {
          "name": "stdout",
          "output_type": "stream",
          "text": [
            "<class 'pandas.core.frame.DataFrame'>\n",
            "RangeIndex: 1035 entries, 0 to 1034\n",
            "Data columns (total 3 columns):\n",
            " #   Column    Non-Null Count  Dtype \n",
            "---  ------    --------------  ----- \n",
            " 0   intent    1035 non-null   object\n",
            " 1   question  1035 non-null   object\n",
            " 2   category  1035 non-null   object\n",
            "dtypes: object(3)\n",
            "memory usage: 24.4+ KB\n"
          ]
        }
      ],
      "source": [
        "data.info()"
      ]
    },
    {
      "cell_type": "code",
      "execution_count": 11,
      "metadata": {
        "colab": {
          "base_uri": "https://localhost:8080/"
        },
        "id": "1xOWwKKQQQY_",
        "outputId": "262526c2-e412-4e7a-9ef4-65f90769c3fc"
      },
      "outputs": [
        {
          "data": {
            "text/plain": [
              "array(['deepfake_purpose', 'deepfake_legality', 'deepfake_danger',\n",
              "       'deepfake_positive_use', 'deepfake_inventor',\n",
              "       'deepfake_media_types', 'deepfake_famous_examples',\n",
              "       'deepfake_realism', 'deepfake_real_time', 'deepfake_vs_cgi',\n",
              "       'deepfake_ai_models', 'deepfake_programming',\n",
              "       'deepfake_data_sources', 'deepfake_hardware',\n",
              "       'deepfake_cybercrime', 'deepfake_identity_theft',\n",
              "       'deepfake_detection', 'deepfake_misinformation', 'deepfake_laws',\n",
              "       'cybersecurity_overview', 'malware_basics', 'ransomware_explained',\n",
              "       'spyware_keyloggers', 'ddos_attacks', 'sql_injection_xss',\n",
              "       'zero_day_exploits', 'security_best_practices',\n",
              "       'password_security', 'authentication_methods', 'data_encryption',\n",
              "       'network_security', 'firewalls_ids_ips', 'cloud_security',\n",
              "       'iot_security', 'social_engineering', 'physical_security',\n",
              "       'incident_response', 'digital_forensics', 'compliance_regulations',\n",
              "       'cybersecurity_careers', 'threat_intelligence',\n",
              "       'penetration_testing', 'cyber_insurance', 'nation_state_attacks',\n",
              "       'zero_trust_model', 'vpn_and_tor', 'dark_web_explained',\n",
              "       'malware_definition', 'malware_types', 'malware_spread',\n",
              "       'malware_prevention', 'malware_detection',\n",
              "       'ransomware_explanation', 'trojan_explanation',\n",
              "       'phishing_definition', 'phishing_purpose', 'phishing_methods',\n",
              "       'phishing_detection', 'phishing_link_safety',\n",
              "       'phishing_protection', 'phishing_response', 'phishing_examples'],\n",
              "      dtype=object)"
            ]
          },
          "execution_count": 11,
          "metadata": {},
          "output_type": "execute_result"
        }
      ],
      "source": [
        "data['intent'].unique()"
      ]
    },
    {
      "cell_type": "code",
      "execution_count": 12,
      "metadata": {
        "colab": {
          "base_uri": "https://localhost:8080/"
        },
        "id": "9r4KqWCAQn0N",
        "outputId": "d73702d6-82cc-4c7a-d6d9-abe4eae99135"
      },
      "outputs": [
        {
          "data": {
            "text/plain": [
              "62"
            ]
          },
          "execution_count": 12,
          "metadata": {},
          "output_type": "execute_result"
        }
      ],
      "source": [
        "# Number of unique intents\n",
        "len(data['intent'].unique())"
      ]
    },
    {
      "cell_type": "code",
      "execution_count": 13,
      "metadata": {
        "colab": {
          "base_uri": "https://localhost:8080/",
          "height": 175
        },
        "id": "YIp-VC4sR5ax",
        "outputId": "6d22d8fa-8a15-4575-ad0f-2d42873043fe"
      },
      "outputs": [
        {
          "data": {
            "text/html": [
              "<div>\n",
              "<style scoped>\n",
              "    .dataframe tbody tr th:only-of-type {\n",
              "        vertical-align: middle;\n",
              "    }\n",
              "\n",
              "    .dataframe tbody tr th {\n",
              "        vertical-align: top;\n",
              "    }\n",
              "\n",
              "    .dataframe thead th {\n",
              "        text-align: right;\n",
              "    }\n",
              "</style>\n",
              "<table border=\"1\" class=\"dataframe\">\n",
              "  <thead>\n",
              "    <tr style=\"text-align: right;\">\n",
              "      <th></th>\n",
              "      <th>category</th>\n",
              "      <th>count</th>\n",
              "    </tr>\n",
              "  </thead>\n",
              "  <tbody>\n",
              "    <tr>\n",
              "      <th>0</th>\n",
              "      <td>general</td>\n",
              "      <td>560</td>\n",
              "    </tr>\n",
              "    <tr>\n",
              "      <th>1</th>\n",
              "      <td>malware</td>\n",
              "      <td>392</td>\n",
              "    </tr>\n",
              "    <tr>\n",
              "      <th>2</th>\n",
              "      <td>phishing</td>\n",
              "      <td>45</td>\n",
              "    </tr>\n",
              "    <tr>\n",
              "      <th>3</th>\n",
              "      <td>deepfake</td>\n",
              "      <td>38</td>\n",
              "    </tr>\n",
              "  </tbody>\n",
              "</table>\n",
              "</div>"
            ],
            "text/plain": [
              "   category  count\n",
              "0   general    560\n",
              "1   malware    392\n",
              "2  phishing     45\n",
              "3  deepfake     38"
            ]
          },
          "execution_count": 13,
          "metadata": {},
          "output_type": "execute_result"
        }
      ],
      "source": [
        "# Distribution of question types (e.g., phishing, malware).\n",
        "category_df = data['category'].value_counts().reset_index()\n",
        "category_df"
      ]
    },
    {
      "cell_type": "code",
      "execution_count": 14,
      "metadata": {
        "colab": {
          "base_uri": "https://localhost:8080/",
          "height": 467
        },
        "id": "7IoplNTaRESh",
        "outputId": "fe4af8f2-561d-497d-b991-5dfd5822cb9b"
      },
      "outputs": [
        {
          "data": {
            "text/plain": [
              "<Axes: xlabel='count', ylabel='category'>"
            ]
          },
          "execution_count": 14,
          "metadata": {},
          "output_type": "execute_result"
        },
        {
          "data": {
            "image/png": "[encoded data removed]",
            "text/plain": [
              "<Figure size 640x480 with 1 Axes>"
            ]
          },
          "metadata": {},
          "output_type": "display_data"
        }
      ],
      "source": [
        "sns.barplot(data=category_df, x='count', y='category')"
      ]
    },
    {
      "cell_type": "code",
      "execution_count": 15,
      "metadata": {
        "id": "-nioJqP9REoY"
      },
      "outputs": [],
      "source": [
        "data['question'] = data['question'].astype(str)"
      ]
    },
    {
      "cell_type": "code",
      "execution_count": 16,
      "metadata": {
        "id": "4r2Ut7nASDOY"
      },
      "outputs": [],
      "source": [
        "def get_wordcount(text):\n",
        "  return len(text.split())"
      ]
    },
    {
      "cell_type": "code",
      "execution_count": 17,
      "metadata": {
        "colab": {
          "base_uri": "https://localhost:8080/",
          "height": 206
        },
        "id": "6G-FHei5Sfep",
        "outputId": "bb9cd749-b062-4cc1-cff5-b1d7670f1ae6"
      },
      "outputs": [
        {
          "data": {
            "text/html": [
              "<div>\n",
              "<style scoped>\n",
              "    .dataframe tbody tr th:only-of-type {\n",
              "        vertical-align: middle;\n",
              "    }\n",
              "\n",
              "    .dataframe tbody tr th {\n",
              "        vertical-align: top;\n",
              "    }\n",
              "\n",
              "    .dataframe thead th {\n",
              "        text-align: right;\n",
              "    }\n",
              "</style>\n",
              "<table border=\"1\" class=\"dataframe\">\n",
              "  <thead>\n",
              "    <tr style=\"text-align: right;\">\n",
              "      <th></th>\n",
              "      <th>intent</th>\n",
              "      <th>question</th>\n",
              "      <th>category</th>\n",
              "      <th>question_length</th>\n",
              "    </tr>\n",
              "  </thead>\n",
              "  <tbody>\n",
              "    <tr>\n",
              "      <th>0</th>\n",
              "      <td>deepfake_purpose</td>\n",
              "      <td>What is the purpose of deepfakes?</td>\n",
              "      <td>deepfake</td>\n",
              "      <td>6</td>\n",
              "    </tr>\n",
              "    <tr>\n",
              "      <th>1</th>\n",
              "      <td>deepfake_purpose</td>\n",
              "      <td>Why were deepfakes created?</td>\n",
              "      <td>deepfake</td>\n",
              "      <td>4</td>\n",
              "    </tr>\n",
              "    <tr>\n",
              "      <th>2</th>\n",
              "      <td>deepfake_legality</td>\n",
              "      <td>Are deepfakes illegal?</td>\n",
              "      <td>deepfake</td>\n",
              "      <td>3</td>\n",
              "    </tr>\n",
              "    <tr>\n",
              "      <th>3</th>\n",
              "      <td>deepfake_legality</td>\n",
              "      <td>Can you get arrested for making deepfakes?</td>\n",
              "      <td>deepfake</td>\n",
              "      <td>7</td>\n",
              "    </tr>\n",
              "    <tr>\n",
              "      <th>4</th>\n",
              "      <td>deepfake_danger</td>\n",
              "      <td>Why are deepfakes dangerous?</td>\n",
              "      <td>deepfake</td>\n",
              "      <td>4</td>\n",
              "    </tr>\n",
              "  </tbody>\n",
              "</table>\n",
              "</div>"
            ],
            "text/plain": [
              "              intent                                    question  category  \\\n",
              "0   deepfake_purpose           What is the purpose of deepfakes?  deepfake   \n",
              "1   deepfake_purpose                 Why were deepfakes created?  deepfake   \n",
              "2  deepfake_legality                      Are deepfakes illegal?  deepfake   \n",
              "3  deepfake_legality  Can you get arrested for making deepfakes?  deepfake   \n",
              "4    deepfake_danger                Why are deepfakes dangerous?  deepfake   \n",
              "\n",
              "   question_length  \n",
              "0                6  \n",
              "1                4  \n",
              "2                3  \n",
              "3                7  \n",
              "4                4  "
            ]
          },
          "execution_count": 17,
          "metadata": {},
          "output_type": "execute_result"
        }
      ],
      "source": [
        "data['question_length'] = data['question'].apply(lambda x : get_wordcount(x))\n",
        "data.head()"
      ]
    },
    {
      "cell_type": "code",
      "execution_count": 18,
      "metadata": {
        "colab": {
          "base_uri": "https://localhost:8080/"
        },
        "id": "Thaw93HqRE8p",
        "outputId": "6370e0b2-9d9b-4619-a9c2-7bc71bd7cd7d"
      },
      "outputs": [
        {
          "name": "stdout",
          "output_type": "stream",
          "text": [
            "Average question length :  6.06\n"
          ]
        }
      ],
      "source": [
        "# Average question lengths.\n",
        "avg_qn_length = data['question_length'].mean()\n",
        "print('Average question length : ', round(avg_qn_length, 2))"
      ]
    },
    {
      "cell_type": "code",
      "execution_count": 19,
      "metadata": {
        "colab": {
          "base_uri": "https://localhost:8080/",
          "height": 448
        },
        "id": "6oPzm3noVW-b",
        "outputId": "73ca88ea-10f6-4e0d-c8f6-ac6ef3b0b3de"
      },
      "outputs": [
        {
          "data": {
            "text/plain": [
              "<Axes: ylabel='Frequency'>"
            ]
          },
          "execution_count": 19,
          "metadata": {},
          "output_type": "execute_result"
        },
        {
          "data": {
            "image/png": "[encoded data removed]",
            "text/plain": [
              "<Figure size 640x480 with 1 Axes>"
            ]
          },
          "metadata": {},
          "output_type": "display_data"
        }
      ],
      "source": [
        "# Distribution of question lengths\n",
        "data['question_length'].plot(kind = 'hist')"
      ]
    },
    {
      "cell_type": "markdown",
      "metadata": {
        "id": "w-B1znGiY2Rc"
      },
      "source": [
        "# Text Cleaning"
      ]
    },
    {
      "cell_type": "code",
      "execution_count": 35,
      "metadata": {},
      "outputs": [],
      "source": [
        "\n",
        "stopwords_list = stopwords.words('english')\n",
        "\n",
        "def remove_stopwords(text):\n",
        "  word_list = [w for w in text.split() if w not in stopwords_list]\n",
        "  return \" \".join(word_list)"
      ]
    },
    {
      "cell_type": "code",
      "execution_count": 36,
      "metadata": {
        "id": "zBo60JyHZnJB"
      },
      "outputs": [],
      "source": [
        "# Remove numbers\n",
        "import re\n",
        "\n",
        "def remove_nums(text):\n",
        "  result = re.sub(r'\\d+', '', text)\n",
        "  return result"
      ]
    },
    {
      "cell_type": "code",
      "execution_count": 37,
      "metadata": {
        "id": "Xya6j0pQbfFE"
      },
      "outputs": [],
      "source": [
        "# Lowercase\n",
        "def text_lowercase(text):\n",
        "  return text.lower()"
      ]
    },
    {
      "cell_type": "code",
      "execution_count": 38,
      "metadata": {
        "id": "VUs-1qqNafU5"
      },
      "outputs": [],
      "source": [
        "# Remove punctuations\n",
        "string.punctuation\n",
        "\n",
        "def remove_punctuation(text):\n",
        "  translator = str.maketrans('', '', string.punctuation)\n",
        "  return text.translate(translator)\n",
        "\n"
      ]
    },
    {
      "cell_type": "code",
      "execution_count": 39,
      "metadata": {
        "id": "hjn4O-xqbxWW"
      },
      "outputs": [],
      "source": [
        "def text_cleaning(text):\n",
        "  text1 = text_lowercase(text)\n",
        "  text2 = remove_stopwords(text1)\n",
        "  text3 = remove_nums(text2)\n",
        "  text4 = remove_punctuation(text3)\n",
        "  return text4"
      ]
    },
    {
      "cell_type": "code",
      "execution_count": 40,
      "metadata": {
        "colab": {
          "base_uri": "https://localhost:8080/",
          "height": 206
        },
        "id": "2d4eCBx9cLYf",
        "outputId": "4a9a53bc-861b-4ed5-d1e7-b0cf3724668a"
      },
      "outputs": [
        {
          "data": {
            "text/html": [
              "<div>\n",
              "<style scoped>\n",
              "    .dataframe tbody tr th:only-of-type {\n",
              "        vertical-align: middle;\n",
              "    }\n",
              "\n",
              "    .dataframe tbody tr th {\n",
              "        vertical-align: top;\n",
              "    }\n",
              "\n",
              "    .dataframe thead th {\n",
              "        text-align: right;\n",
              "    }\n",
              "</style>\n",
              "<table border=\"1\" class=\"dataframe\">\n",
              "  <thead>\n",
              "    <tr style=\"text-align: right;\">\n",
              "      <th></th>\n",
              "      <th>intent</th>\n",
              "      <th>question</th>\n",
              "      <th>category</th>\n",
              "      <th>question_length</th>\n",
              "      <th>clean_question</th>\n",
              "    </tr>\n",
              "  </thead>\n",
              "  <tbody>\n",
              "    <tr>\n",
              "      <th>0</th>\n",
              "      <td>deepfake_purpose</td>\n",
              "      <td>What is the purpose of deepfakes?</td>\n",
              "      <td>deepfake</td>\n",
              "      <td>6</td>\n",
              "      <td>purpose deepfakes</td>\n",
              "    </tr>\n",
              "    <tr>\n",
              "      <th>1</th>\n",
              "      <td>deepfake_purpose</td>\n",
              "      <td>Why were deepfakes created?</td>\n",
              "      <td>deepfake</td>\n",
              "      <td>4</td>\n",
              "      <td>deepfakes created</td>\n",
              "    </tr>\n",
              "    <tr>\n",
              "      <th>2</th>\n",
              "      <td>deepfake_legality</td>\n",
              "      <td>Are deepfakes illegal?</td>\n",
              "      <td>deepfake</td>\n",
              "      <td>3</td>\n",
              "      <td>deepfakes illegal</td>\n",
              "    </tr>\n",
              "    <tr>\n",
              "      <th>3</th>\n",
              "      <td>deepfake_legality</td>\n",
              "      <td>Can you get arrested for making deepfakes?</td>\n",
              "      <td>deepfake</td>\n",
              "      <td>7</td>\n",
              "      <td>get arrested making deepfakes</td>\n",
              "    </tr>\n",
              "    <tr>\n",
              "      <th>4</th>\n",
              "      <td>deepfake_danger</td>\n",
              "      <td>Why are deepfakes dangerous?</td>\n",
              "      <td>deepfake</td>\n",
              "      <td>4</td>\n",
              "      <td>deepfakes dangerous</td>\n",
              "    </tr>\n",
              "  </tbody>\n",
              "</table>\n",
              "</div>"
            ],
            "text/plain": [
              "              intent                                    question  category  \\\n",
              "0   deepfake_purpose           What is the purpose of deepfakes?  deepfake   \n",
              "1   deepfake_purpose                 Why were deepfakes created?  deepfake   \n",
              "2  deepfake_legality                      Are deepfakes illegal?  deepfake   \n",
              "3  deepfake_legality  Can you get arrested for making deepfakes?  deepfake   \n",
              "4    deepfake_danger                Why are deepfakes dangerous?  deepfake   \n",
              "\n",
              "   question_length                 clean_question  \n",
              "0                6              purpose deepfakes  \n",
              "1                4              deepfakes created  \n",
              "2                3              deepfakes illegal  \n",
              "3                7  get arrested making deepfakes  \n",
              "4                4            deepfakes dangerous  "
            ]
          },
          "execution_count": 40,
          "metadata": {},
          "output_type": "execute_result"
        }
      ],
      "source": [
        "data['clean_question'] = data['question'].apply(lambda x : text_cleaning(x))\n",
        "data.head()"
      ]
    },
    {
      "cell_type": "markdown",
      "metadata": {
        "id": "xdluO-aKfM_J"
      },
      "source": [
        "# Most common words or phrases."
      ]
    },
    {
      "cell_type": "code",
      "execution_count": 41,
      "metadata": {
        "colab": {
          "base_uri": "https://localhost:8080/",
          "height": 206
        },
        "id": "rnP9UlXjU3un",
        "outputId": "84c1222e-fc1b-4fc6-c42c-b4f38e8abd5b"
      },
      "outputs": [
        {
          "data": {
            "text/html": [
              "<div>\n",
              "<style scoped>\n",
              "    .dataframe tbody tr th:only-of-type {\n",
              "        vertical-align: middle;\n",
              "    }\n",
              "\n",
              "    .dataframe tbody tr th {\n",
              "        vertical-align: top;\n",
              "    }\n",
              "\n",
              "    .dataframe thead th {\n",
              "        text-align: right;\n",
              "    }\n",
              "</style>\n",
              "<table border=\"1\" class=\"dataframe\">\n",
              "  <thead>\n",
              "    <tr style=\"text-align: right;\">\n",
              "      <th></th>\n",
              "      <th>intent</th>\n",
              "      <th>question</th>\n",
              "      <th>category</th>\n",
              "      <th>question_length</th>\n",
              "      <th>clean_question</th>\n",
              "      <th>wordlist</th>\n",
              "    </tr>\n",
              "  </thead>\n",
              "  <tbody>\n",
              "    <tr>\n",
              "      <th>0</th>\n",
              "      <td>deepfake_purpose</td>\n",
              "      <td>What is the purpose of deepfakes?</td>\n",
              "      <td>deepfake</td>\n",
              "      <td>6</td>\n",
              "      <td>purpose deepfakes</td>\n",
              "      <td>[purpose, deepfakes]</td>\n",
              "    </tr>\n",
              "    <tr>\n",
              "      <th>1</th>\n",
              "      <td>deepfake_purpose</td>\n",
              "      <td>Why were deepfakes created?</td>\n",
              "      <td>deepfake</td>\n",
              "      <td>4</td>\n",
              "      <td>deepfakes created</td>\n",
              "      <td>[deepfakes, created]</td>\n",
              "    </tr>\n",
              "    <tr>\n",
              "      <th>2</th>\n",
              "      <td>deepfake_legality</td>\n",
              "      <td>Are deepfakes illegal?</td>\n",
              "      <td>deepfake</td>\n",
              "      <td>3</td>\n",
              "      <td>deepfakes illegal</td>\n",
              "      <td>[deepfakes, illegal]</td>\n",
              "    </tr>\n",
              "    <tr>\n",
              "      <th>3</th>\n",
              "      <td>deepfake_legality</td>\n",
              "      <td>Can you get arrested for making deepfakes?</td>\n",
              "      <td>deepfake</td>\n",
              "      <td>7</td>\n",
              "      <td>get arrested making deepfakes</td>\n",
              "      <td>[get, arrested, making, deepfakes]</td>\n",
              "    </tr>\n",
              "    <tr>\n",
              "      <th>4</th>\n",
              "      <td>deepfake_danger</td>\n",
              "      <td>Why are deepfakes dangerous?</td>\n",
              "      <td>deepfake</td>\n",
              "      <td>4</td>\n",
              "      <td>deepfakes dangerous</td>\n",
              "      <td>[deepfakes, dangerous]</td>\n",
              "    </tr>\n",
              "  </tbody>\n",
              "</table>\n",
              "</div>"
            ],
            "text/plain": [
              "              intent                                    question  category  \\\n",
              "0   deepfake_purpose           What is the purpose of deepfakes?  deepfake   \n",
              "1   deepfake_purpose                 Why were deepfakes created?  deepfake   \n",
              "2  deepfake_legality                      Are deepfakes illegal?  deepfake   \n",
              "3  deepfake_legality  Can you get arrested for making deepfakes?  deepfake   \n",
              "4    deepfake_danger                Why are deepfakes dangerous?  deepfake   \n",
              "\n",
              "   question_length                 clean_question  \\\n",
              "0                6              purpose deepfakes   \n",
              "1                4              deepfakes created   \n",
              "2                3              deepfakes illegal   \n",
              "3                7  get arrested making deepfakes   \n",
              "4                4            deepfakes dangerous   \n",
              "\n",
              "                             wordlist  \n",
              "0                [purpose, deepfakes]  \n",
              "1                [deepfakes, created]  \n",
              "2                [deepfakes, illegal]  \n",
              "3  [get, arrested, making, deepfakes]  \n",
              "4              [deepfakes, dangerous]  "
            ]
          },
          "execution_count": 41,
          "metadata": {},
          "output_type": "execute_result"
        }
      ],
      "source": [
        "\n",
        "data['wordlist'] = data['clean_question'].apply(lambda x : x.split(\" \"))\n",
        "data.head()"
      ]
    },
    {
      "cell_type": "code",
      "execution_count": 42,
      "metadata": {
        "id": "EobJH7rNgIKo"
      },
      "outputs": [],
      "source": [
        "from itertools import chain\n",
        "wordlists = data['wordlist'].to_list()\n",
        "complete_list = []\n",
        "for wordlist in wordlists:\n",
        "  for word in wordlist:\n",
        "    complete_list.append(word)\n"
      ]
    },
    {
      "cell_type": "code",
      "execution_count": 43,
      "metadata": {
        "id": "46jTxPhJgknA"
      },
      "outputs": [],
      "source": [
        "from collections import Counter\n",
        "word_count_dict = Counter(complete_list)\n"
      ]
    },
    {
      "cell_type": "code",
      "execution_count": 44,
      "metadata": {
        "colab": {
          "base_uri": "https://localhost:8080/",
          "height": 363
        },
        "id": "mvhMBqPOgzUi",
        "outputId": "87e4fa58-8c93-495c-ce87-7f6c3ad1b6cf"
      },
      "outputs": [
        {
          "data": {
            "text/html": [
              "<div>\n",
              "<style scoped>\n",
              "    .dataframe tbody tr th:only-of-type {\n",
              "        vertical-align: middle;\n",
              "    }\n",
              "\n",
              "    .dataframe tbody tr th {\n",
              "        vertical-align: top;\n",
              "    }\n",
              "\n",
              "    .dataframe thead th {\n",
              "        text-align: right;\n",
              "    }\n",
              "</style>\n",
              "<table border=\"1\" class=\"dataframe\">\n",
              "  <thead>\n",
              "    <tr style=\"text-align: right;\">\n",
              "      <th></th>\n",
              "      <th>Word</th>\n",
              "      <th>Frequency</th>\n",
              "    </tr>\n",
              "  </thead>\n",
              "  <tbody>\n",
              "    <tr>\n",
              "      <th>137</th>\n",
              "      <td>ransomware</td>\n",
              "      <td>175</td>\n",
              "    </tr>\n",
              "    <tr>\n",
              "      <th>809</th>\n",
              "      <td>trojan</td>\n",
              "      <td>110</td>\n",
              "    </tr>\n",
              "    <tr>\n",
              "      <th>810</th>\n",
              "      <td>trojans</td>\n",
              "      <td>66</td>\n",
              "    </tr>\n",
              "    <tr>\n",
              "      <th>109</th>\n",
              "      <td>malware</td>\n",
              "      <td>62</td>\n",
              "    </tr>\n",
              "    <tr>\n",
              "      <th>25</th>\n",
              "      <td>work</td>\n",
              "      <td>61</td>\n",
              "    </tr>\n",
              "    <tr>\n",
              "      <th>120</th>\n",
              "      <td>happens</td>\n",
              "      <td>53</td>\n",
              "    </tr>\n",
              "    <tr>\n",
              "      <th>4</th>\n",
              "      <td>get</td>\n",
              "      <td>51</td>\n",
              "    </tr>\n",
              "    <tr>\n",
              "      <th>117</th>\n",
              "      <td>computer</td>\n",
              "      <td>51</td>\n",
              "    </tr>\n",
              "    <tr>\n",
              "      <th>72</th>\n",
              "      <td>cybersecurity</td>\n",
              "      <td>49</td>\n",
              "    </tr>\n",
              "    <tr>\n",
              "      <th>116</th>\n",
              "      <td>virus</td>\n",
              "      <td>47</td>\n",
              "    </tr>\n",
              "  </tbody>\n",
              "</table>\n",
              "</div>"
            ],
            "text/plain": [
              "              Word  Frequency\n",
              "137     ransomware        175\n",
              "809         trojan        110\n",
              "810        trojans         66\n",
              "109        malware         62\n",
              "25            work         61\n",
              "120        happens         53\n",
              "4              get         51\n",
              "117       computer         51\n",
              "72   cybersecurity         49\n",
              "116          virus         47"
            ]
          },
          "execution_count": 44,
          "metadata": {},
          "output_type": "execute_result"
        }
      ],
      "source": [
        "wordcount_df = pd.DataFrame({'Word' : list(word_count_dict.keys()), 'Frequency' :list(word_count_dict.values()) })\n",
        "wordcount_df = wordcount_df.sort_values(['Frequency'], ascending=False)\n",
        "top10 = wordcount_df.head(10)\n",
        "top10"
      ]
    },
    {
      "cell_type": "code",
      "execution_count": 45,
      "metadata": {
        "colab": {
          "base_uri": "https://localhost:8080/",
          "height": 449
        },
        "id": "RAQgfLF8jIsP",
        "outputId": "5e3da6db-b809-4dac-e94d-36a0d095159a"
      },
      "outputs": [
        {
          "data": {
            "image/png": "[encoded data removed]",
            "text/plain": [
              "<Figure size 640x480 with 1 Axes>"
            ]
          },
          "metadata": {},
          "output_type": "display_data"
        }
      ],
      "source": [
        "ax = sns.barplot(data = top10, y='Word', x='Frequency')\n",
        "for i in ax.containers:\n",
        "  ax.bar_label(i)"
      ]
    }
  ],
  "metadata": {
    "colab": {
      "provenance": []
    },
    "kernelspec": {
      "display_name": ".venv",
      "language": "python",
      "name": "python3"
    },
    "language_info": {
      "codemirror_mode": {
        "name": "ipython",
        "version": 3
      },
      "file_extension": ".py",
      "mimetype": "text/x-python",
      "name": "python",
      "nbconvert_exporter": "python",
      "pygments_lexer": "ipython3",
      "version": "3.13.0"
    }
  },
  "nbformat": 4,
  "nbformat_minor": 0
}
